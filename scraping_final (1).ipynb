{
  "nbformat": 4,
  "nbformat_minor": 0,
  "metadata": {
    "colab": {
      "provenance": []
    },
    "kernelspec": {
      "name": "python3",
      "display_name": "Python 3"
    },
    "language_info": {
      "name": "python"
    }
  },
  "cells": [
    {
      "cell_type": "code",
      "execution_count": null,
      "metadata": {
        "id": "jVnfAIZh2dI2"
      },
      "outputs": [],
      "source": [
        "import re\n",
        "import csv\n",
        "from time import sleep\n",
        "from bs4 import BeautifulSoup\n",
        "import requests"
      ]
    },
    {
      "cell_type": "code",
      "source": [
        "def get_article(card):\n",
        "  headline = card.find('h4','s-title').text\n",
        "  source = card.find('span','s-source').text\n",
        "  posted = card.find('span','s-time').text.replace('.','').strip()\n",
        "  description = card.find('p','s-desc').text.strip()\n",
        "  #raw_link = card.find('a').get('href')\n",
        "  #unquoted_link = requests.utils.unquote(raw_link)\n",
        "  #pattern = re.compile(r'RU=(.+)\\/RK')\n",
        "  #clear_link = re.search(pattern,unquoted_link).group(1)\n",
        "\n",
        "  article = (headline,source,posted,description)\n",
        "  return article"
      ],
      "metadata": {
        "id": "7Z0vmeH72fIf"
      },
      "execution_count": null,
      "outputs": []
    },
    {
      "cell_type": "code",
      "source": [
        "# def get_the_news(search):\n",
        "#   #Run the main program\n",
        "#   template = 'https://news.search.yahoo.com/search?p={}'\n",
        "#   url = template.format(search)\n",
        "\n",
        "#   articles = []\n",
        "#   links = set()\n",
        "\n",
        "#   while True:\n",
        "#     response = requests.get(url)\n",
        "#     soup = BeautifulSoup(response.text,'lxml')\n",
        "#     cards = soup.find_all('div','NewsArticle')\n",
        "\n",
        "#     #extract articles from page\n",
        "#     for card in cards:\n",
        "#       article = get_article(card)\n",
        "#       link = article[-1]\n",
        "#       if not link in links:\n",
        "#         links.add(link)\n",
        "#         articles.append(article)\n",
        "#     #Find the next page\n",
        "#     try:\n",
        "#        url = soup.find('a','next').get('href')\n",
        "#        sleep(2)\n",
        "#     except AttributeError:\n",
        "#        break\n",
        "#   #Save article data\n",
        "#   with open('newsArticle_pfe.csv','w',newline='',encoding='utf-8') as f:\n",
        "#     writer = csv.writer(f)\n",
        "#     writer.writerow(['Headline','Source','Posted','Description'])\n",
        "#     writer.writerows(articles)\n",
        "\n",
        "#   return articles"
      ],
      "metadata": {
        "id": "c_rtGGKt20Z2"
      },
      "execution_count": null,
      "outputs": []
    },
    {
      "cell_type": "code",
      "source": [
        "# articles = get_the_news('MRNA')"
      ],
      "metadata": {
        "id": "JiIbInAd2488"
      },
      "execution_count": null,
      "outputs": []
    },
    {
      "cell_type": "code",
      "source": [
        "# news=[]"
      ],
      "metadata": {
        "id": "dfHz5Tg0z1EQ"
      },
      "execution_count": null,
      "outputs": []
    },
    {
      "cell_type": "code",
      "source": [
        "stocks = [ \"HSBC\",\"^IXIC\"]"
      ],
      "metadata": {
        "id": "jyla3o2gzwhA"
      },
      "execution_count": null,
      "outputs": []
    },
    {
      "cell_type": "code",
      "source": [
        "# , \"AAPL\", \"COST\", \"WMT\", \"BAC\", \"HSBC\",\"^IXIC\"]"
      ],
      "metadata": {
        "id": "iOTnmCRukIfF"
      },
      "execution_count": null,
      "outputs": []
    },
    {
      "cell_type": "code",
      "source": [
        "# for asset in stocks:\n",
        "#   # print(asset)\n",
        "#   articles=get_the_news(asset)\n",
        "#   news.append(articles)\n"
      ],
      "metadata": {
        "id": "eRO0eC9lzrEq"
      },
      "execution_count": null,
      "outputs": []
    },
    {
      "cell_type": "code",
      "source": [
        "import requests\n",
        "from bs4 import BeautifulSoup\n",
        "from time import sleep\n",
        "\n",
        "def get_the_news(search):\n",
        "    # Run the main program\n",
        "    template = 'https://news.search.yahoo.com/search?p={}'\n",
        "    url = template.format(search)\n",
        "\n",
        "    articles = []\n",
        "    links = set()\n",
        "\n",
        "    while True:\n",
        "        response = requests.get(url)\n",
        "        soup = BeautifulSoup(response.text, 'lxml')\n",
        "        cards = soup.find_all('div', 'NewsArticle')\n",
        "\n",
        "\n",
        "        # Extract articles from page\n",
        "        for card in cards:\n",
        "            article = get_article(card)\n",
        "            link = article[-1]\n",
        "            if not link in links:\n",
        "                links.add(link)\n",
        "                articles.append(article)\n",
        "        # Find the next page\n",
        "        try:\n",
        "            url = soup.find('a', 'next').get('href')\n",
        "            sleep(2)\n",
        "        except AttributeError:\n",
        "            break\n",
        "\n",
        "    return articles\n"
      ],
      "metadata": {
        "id": "aX1UUi53KkLA"
      },
      "execution_count": null,
      "outputs": []
    },
    {
      "cell_type": "code",
      "source": [
        "import pandas as pd\n",
        "\n",
        "# List of stocks for which you want to retrieve news articles\n",
        "#stocks = [\"MRNA\", \"PFE\", \"JNJ\", \"GOOGL\", \"AAPL\", \"COST\", \"WMT\", \"KR\", \"JPM\", \"BAC\", \"HSBC\", \"^IXIC\"]\n",
        "\n",
        "# Create an empty DataFrame to store the news data\n",
        "columns = ['Asset', 'Headline', 'Source', 'Posted', 'Description']\n",
        "news_df = pd.DataFrame(columns=columns)\n",
        "\n",
        "# Loop through each stock and retrieve news articles\n",
        "for stock in stocks:\n",
        "    articles = get_the_news(stock)\n",
        "\n",
        "    # Append the news articles to the DataFrame\n",
        "    for article in articles:\n",
        "        news_df = news_df.append({'Asset': stock, 'Headline': article[0], 'Source': article[1], 'Posted': article[2], 'Description': article[3]}, ignore_index=True)\n",
        "\n",
        "# Display the DataFrame with the news data\n",
        "print(news_df)"
      ],
      "metadata": {
        "colab": {
          "base_uri": "https://localhost:8080/"
        },
        "id": "qnUm0HieKmWR",
        "outputId": "3c0446e5-6cdd-45d6-9081-3fd52b84e869"
      },
      "execution_count": null,
      "outputs": [
        {
          "output_type": "stream",
          "name": "stderr",
          "text": [
            "<ipython-input-5-d2643c612d91>:16: FutureWarning: The frame.append method is deprecated and will be removed from pandas in a future version. Use pandas.concat instead.\n",
            "  news_df = news_df.append({'Asset': stock, 'Headline': article[0], 'Source': article[1], 'Posted': article[2], 'Description': article[3]}, ignore_index=True)\n",
            "<ipython-input-5-d2643c612d91>:16: FutureWarning: The frame.append method is deprecated and will be removed from pandas in a future version. Use pandas.concat instead.\n",
            "  news_df = news_df.append({'Asset': stock, 'Headline': article[0], 'Source': article[1], 'Posted': article[2], 'Description': article[3]}, ignore_index=True)\n",
            "<ipython-input-5-d2643c612d91>:16: FutureWarning: The frame.append method is deprecated and will be removed from pandas in a future version. Use pandas.concat instead.\n",
            "  news_df = news_df.append({'Asset': stock, 'Headline': article[0], 'Source': article[1], 'Posted': article[2], 'Description': article[3]}, ignore_index=True)\n",
            "<ipython-input-5-d2643c612d91>:16: FutureWarning: The frame.append method is deprecated and will be removed from pandas in a future version. Use pandas.concat instead.\n",
            "  news_df = news_df.append({'Asset': stock, 'Headline': article[0], 'Source': article[1], 'Posted': article[2], 'Description': article[3]}, ignore_index=True)\n",
            "<ipython-input-5-d2643c612d91>:16: FutureWarning: The frame.append method is deprecated and will be removed from pandas in a future version. Use pandas.concat instead.\n",
            "  news_df = news_df.append({'Asset': stock, 'Headline': article[0], 'Source': article[1], 'Posted': article[2], 'Description': article[3]}, ignore_index=True)\n",
            "<ipython-input-5-d2643c612d91>:16: FutureWarning: The frame.append method is deprecated and will be removed from pandas in a future version. Use pandas.concat instead.\n",
            "  news_df = news_df.append({'Asset': stock, 'Headline': article[0], 'Source': article[1], 'Posted': article[2], 'Description': article[3]}, ignore_index=True)\n",
            "<ipython-input-5-d2643c612d91>:16: FutureWarning: The frame.append method is deprecated and will be removed from pandas in a future version. Use pandas.concat instead.\n",
            "  news_df = news_df.append({'Asset': stock, 'Headline': article[0], 'Source': article[1], 'Posted': article[2], 'Description': article[3]}, ignore_index=True)\n",
            "<ipython-input-5-d2643c612d91>:16: FutureWarning: The frame.append method is deprecated and will be removed from pandas in a future version. Use pandas.concat instead.\n",
            "  news_df = news_df.append({'Asset': stock, 'Headline': article[0], 'Source': article[1], 'Posted': article[2], 'Description': article[3]}, ignore_index=True)\n",
            "<ipython-input-5-d2643c612d91>:16: FutureWarning: The frame.append method is deprecated and will be removed from pandas in a future version. Use pandas.concat instead.\n",
            "  news_df = news_df.append({'Asset': stock, 'Headline': article[0], 'Source': article[1], 'Posted': article[2], 'Description': article[3]}, ignore_index=True)\n",
            "<ipython-input-5-d2643c612d91>:16: FutureWarning: The frame.append method is deprecated and will be removed from pandas in a future version. Use pandas.concat instead.\n",
            "  news_df = news_df.append({'Asset': stock, 'Headline': article[0], 'Source': article[1], 'Posted': article[2], 'Description': article[3]}, ignore_index=True)\n"
          ]
        },
        {
          "output_type": "stream",
          "name": "stdout",
          "text": [
            "  Asset                                           Headline  \\\n",
            "0  HSBC                    HSBC's Money Laundering Scandal   \n",
            "1  HSBC  Online scam sees Harlech Community Council los...   \n",
            "2  HSBC  IFP Advisors Inc Decreases Stock Holdings in H...   \n",
            "3  HSBC  HSBC Trustee outlines course of action for Sab...   \n",
            "4  HSBC  HSBC Expands Green Finance and Bond Teams in C...   \n",
            "5  HSBC  Geneos Wealth Management Inc. Reduces Position...   \n",
            "6  HSBC             HSBC (NYSE:HSBC) PT Lowered to GBX 675   \n",
            "7  HSBC  HSBC Innovation Banking UK Backs Cross-Border ...   \n",
            "8  HSBC  HSBC is bullish on Biopharma stocks By Investi...   \n",
            "9  HSBC  HSBC Leads Peers in Advancing Climate Agenda a...   \n",
            "\n",
            "                       Source         Posted  \\\n",
            "0                Investopedia  · 9 hours ago   \n",
            "1       BBC via Yahoo Finance  · 8 hours ago   \n",
            "2              ETF DAILY NEWS   · 4 days ago   \n",
            "3                    MSN News   · 3 days ago   \n",
            "4  Benzinga via Yahoo Finance   · 6 days ago   \n",
            "5              ETF DAILY NEWS   · 5 days ago   \n",
            "6              ETF DAILY NEWS   · 6 days ago   \n",
            "7                 Morningstar   · 2 days ago   \n",
            "8               Investing.com   · 5 days ago   \n",
            "9                     Rigzone   · 3 days ago   \n",
            "\n",
            "                                         Description  \n",
            "0  HSBC's agreement to pay a $1.9 billion fine an...  \n",
            "1  Harlech Community Council said it gave the mon...  \n",
            "2  IFP Advisors Inc trimmed its position in share...  \n",
            "3  It's concerned with the request for SREIM to c...  \n",
            "4  Despite geopolitical uncertainties, HSBC Holdi...  \n",
            "5  Geneos Wealth Management Inc. cut its position...  \n",
            "6  HSBC (NYSE:HSBC – Get Free Report) had its pri...  \n",
            "7  SINGAPORE and LONDON, July 18, 2023 /PRNewswir...  \n",
            "8                HSBC is bullish on Biopharma stocks  \n",
            "9  The investment arm of HSBC Holdings Plc is ahe...  \n"
          ]
        }
      ]
    },
    {
      "cell_type": "code",
      "source": [
        "news_df['Asset'].value_counts()"
      ],
      "metadata": {
        "colab": {
          "base_uri": "https://localhost:8080/"
        },
        "id": "EyvufM0yK-1_",
        "outputId": "f12ec439-d3c1-4a1b-adcd-8d51471e0423"
      },
      "execution_count": null,
      "outputs": [
        {
          "output_type": "execute_result",
          "data": {
            "text/plain": [
              "HSBC    10\n",
              "Name: Asset, dtype: int64"
            ]
          },
          "metadata": {},
          "execution_count": 6
        }
      ]
    },
    {
      "cell_type": "code",
      "source": [
        "news_df.to_csv('news_articles_5.csv', index=False)"
      ],
      "metadata": {
        "id": "cMcloYhgLQHq"
      },
      "execution_count": null,
      "outputs": []
    },
    {
      "cell_type": "markdown",
      "source": [
        "Refernce : https://saifgazali.medium.com/web-scraping-yahoo-news-252bbb2d7c0"
      ],
      "metadata": {
        "id": "xcb_lgP2xxn-"
      }
    }
  ]
}